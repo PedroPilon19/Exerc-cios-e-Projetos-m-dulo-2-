{
  "nbformat": 4,
  "nbformat_minor": 0,
  "metadata": {
    "colab": {
      "provenance": []
    },
    "kernelspec": {
      "name": "python3",
      "display_name": "Python 3"
    },
    "language_info": {
      "name": "python"
    }
  },
  "cells": [
    {
      "cell_type": "markdown",
      "source": [
        "1.Faça um programa que olhe todos os itens de uma lista e diga quantos deles são pares."
      ],
      "metadata": {
        "id": "GeK6V_tIRxsb"
      }
    },
    {
      "cell_type": "code",
      "source": [
        "lista = [3, 4, 5, 6, 7, 8, 9, 10, 11, 12, 13, 14]\n",
        "\n",
        "quantidade_pares = len(list(filter(lambda x: x % 2 == 0, lista)))\n",
        "numeros_pares = [x for x in lista if x % 2 == 0]\n",
        "\n",
        "\n",
        "print(f\"A quantidade de números pares: {quantidade_pares}\")\n",
        "print(f'Os números pares são: {numeros_pares}')"
      ],
      "metadata": {
        "colab": {
          "base_uri": "https://localhost:8080/"
        },
        "id": "VCsF0vQxR21q",
        "outputId": "48d774cf-5eb5-42e9-912f-71202f153817"
      },
      "execution_count": 10,
      "outputs": [
        {
          "output_type": "stream",
          "name": "stdout",
          "text": [
            "A quantidade de números pares: 6\n",
            "Os números pares são: [4, 6, 8, 10, 12, 14]\n"
          ]
        }
      ]
    },
    {
      "cell_type": "markdown",
      "source": [
        "2.Faça um programa que imprima o maior número de uma lista, sem usar o método max()"
      ],
      "metadata": {
        "id": "ACbKmrNOUe-c"
      }
    },
    {
      "cell_type": "code",
      "source": [
        "lista = [3, 4, 5, 6, 7, 8, 9, 10, 1, 2, 111]\n",
        "\n",
        "maior_numero = [x for x in lista if all(x >= y for y in lista)]\n",
        "\n",
        "print(f\"O maior número na lista é: {maior_numero[0]}\")\n"
      ],
      "metadata": {
        "colab": {
          "base_uri": "https://localhost:8080/"
        },
        "id": "m0kiUHRXU2Ja",
        "outputId": "0e38683f-df3c-4966-9497-6fb3c491ea02"
      },
      "execution_count": 13,
      "outputs": [
        {
          "output_type": "stream",
          "name": "stdout",
          "text": [
            "O maior número na lista é: 111\n"
          ]
        }
      ]
    },
    {
      "cell_type": "markdown",
      "source": [
        "3.Faça um Programa que peça as 4 notas bimestrais e mostre a média, usando listas."
      ],
      "metadata": {
        "id": "8YCO_pj_Wqco"
      }
    },
    {
      "cell_type": "code",
      "source": [
        "notas = []\n",
        "soma = n = 0\n",
        "\n",
        "while n < 4:\n",
        "  note = float(input(f'Digite a nota da Prova {n+1}: '))\n",
        "  soma += note\n",
        "  notas.append(note)\n",
        "\n",
        "  media = soma/4\n",
        "  n += 1\n",
        "\n",
        "print(f'As notas são: {notas} e a média final: {media}')\n",
        "\n",
        ""
      ],
      "metadata": {
        "colab": {
          "base_uri": "https://localhost:8080/"
        },
        "id": "L6dgVRTVWzu_",
        "outputId": "898feae2-9108-49b1-e341-44336d462f01"
      },
      "execution_count": 18,
      "outputs": [
        {
          "output_type": "stream",
          "name": "stdout",
          "text": [
            "Digite a nota da Prova1: 10\n",
            "Digite a nota da Prova2: 2\n",
            "Digite a nota da Prova3: 5\n",
            "Digite a nota da Prova4: 8\n",
            "As notas são: [10.0, 2.0, 5.0, 8.0] e a média final: 6.25\n"
          ]
        }
      ]
    },
    {
      "cell_type": "markdown",
      "source": [
        "4.Considere que temos uma lista com os nomes de todos os alunos de uma turma, e outra com as notas, na mesma ordem. Como faríamos para acessar, simultaneamente, o nome de um aluno e a sua nota?\n",
        "\n",
        "R: Usando a função zip (nomes_dos_alunos, notas_dos_alunos), cria-se um iterador que combina os elementos das duas listas, como demostrado no código abaixo:"
      ],
      "metadata": {
        "id": "6A1N-wxIYvv-"
      }
    },
    {
      "cell_type": "code",
      "source": [
        "nomes_dos_alunos = ['Pedro','Ricardo','Camila','Janaina']\n",
        "\n",
        "média_dos_alunos = [8.5, 7.25, 9.25, 6.75]\n",
        "\n",
        "for nome, média in zip(nomes_dos_alunos, média_dos_alunos):\n",
        "    print(f\"Aluno: {nome}, Nota: {média}\")\n"
      ],
      "metadata": {
        "colab": {
          "base_uri": "https://localhost:8080/"
        },
        "id": "iaE8dNfBZcya",
        "outputId": "3c98517d-b9a3-4980-85c6-9c14ec825257"
      },
      "execution_count": 20,
      "outputs": [
        {
          "output_type": "stream",
          "name": "stdout",
          "text": [
            "Aluno: Pedro, Nota: 8.5\n",
            "Aluno: Ricardo, Nota: 7.25\n",
            "Aluno: Camila, Nota: 9.25\n",
            "Aluno: Janaina, Nota: 6.75\n"
          ]
        }
      ]
    },
    {
      "cell_type": "markdown",
      "source": [
        "5.Para que a entrega de alimentos seja feita com qualidade por um serviço de delivery, é muito importante que as caixas de transporte utilizadas por entregadores tenham um revestimento térmico interno, para manter a temperatura dos alimentos. Muitos destes revestimentos são importados de países que utilizam diferentes escalas de temperatura, de modo que as especificações quanto às temperaturas de operação podem gerar confusão.Pensando nisso, escreva um código em Python que recebe um número (que possa ter casas decimais) e a escala de temperatura em que este valor se encontra e para qual ele deseja converter (Celsius, Kelvin ou Fahrenheit). Tanto na escala em que se encontra quanto para a que deseja converter, utilize as letras iniciais como entrada: Celsius - 'C', Kelvin - 'K' ou Fahrenheit - 'F'.\n"
      ],
      "metadata": {
        "id": "6WxcEUbnbDu6"
      }
    },
    {
      "cell_type": "code",
      "source": [
        "temp = float(input(\"Digite o valor da temperatura: \"))\n",
        "escala_original = input('Qual a escala desta temperatura? Digite C, F ou K: ')\n",
        "escala_convertida = input('Deseja converter para: C, F ou K: ')\n",
        "\n",
        "if escala_original.upper() == 'C' and escala_convertida.upper() == 'K':\n",
        "    tk = temp + 273\n",
        "    if tk < 273:\n",
        "        print('Não existe temperatura inferior a 273 K')\n",
        "    else:\n",
        "        print(tk, 'K')\n",
        "\n",
        "elif escala_original.upper() == 'K' and escala_convertida.upper() == 'C':\n",
        "    tc = temp - 273\n",
        "    print(tc, '°C')\n",
        "\n",
        "elif escala_original.upper() == 'C' and escala_convertida.upper() == 'F':\n",
        "    tf = ((9 * temp) / 5) + 32\n",
        "    print(tf, '°F')\n",
        "\n",
        "elif escala_original.upper() == 'F' and escala_convertida.upper() == 'C':\n",
        "    tc = (5 / 9) * (temp - 32)\n",
        "    print(tc, '°C')\n",
        "\n",
        "elif escala_original.upper() == 'F' and escala_convertida.upper() == 'K':\n",
        "    tk = ((5 * (temp - 32)) / 9) + 273\n",
        "    print(tk, 'K')\n",
        "\n",
        "elif escala_original.upper() == 'K' and escala_convertida.upper() == 'F':\n",
        "    tf = ((9 / 5) * (temp - 273)) + 32\n",
        "    print(tf, '°F')\n"
      ],
      "metadata": {
        "colab": {
          "base_uri": "https://localhost:8080/"
        },
        "id": "XKh819k_b5bX",
        "outputId": "705f0a13-8bb9-439b-9727-f262c1784d8e"
      },
      "execution_count": 23,
      "outputs": [
        {
          "output_type": "stream",
          "name": "stdout",
          "text": [
            "Digite o valor da temperatura: 32\n",
            "Qual a escala desta temperatura? Digite C, F ou K: f\n",
            "Deseja converter para: C, F ou K: c\n",
            "0.0 °C\n"
          ]
        }
      ]
    }
  ]
}