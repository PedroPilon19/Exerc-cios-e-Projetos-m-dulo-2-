{
  "nbformat": 4,
  "nbformat_minor": 0,
  "metadata": {
    "colab": {
      "provenance": []
    },
    "kernelspec": {
      "name": "python3",
      "display_name": "Python 3"
    },
    "language_info": {
      "name": "python"
    }
  },
  "cells": [
    {
      "cell_type": "markdown",
      "source": [
        "1-) Elementos individuais de listas\n",
        "Muitas vezes, precisamos acessar elementos individuais de listas, o que é possível de ser feito a partir de sua indexação. Sabendo disso, crie uma função retornaPenultimoEQuartoElementodeLista() que recebe uma lista e retorne o quarto e o penúltimo elemento desta lista, nesta ordem."
      ],
      "metadata": {
        "id": "i3kr8cbMa7Gz"
      }
    },
    {
      "cell_type": "code",
      "source": [
        "def retornaPenultimoEQuartoElementodeLista(tuplaA):\n",
        "\t# Lista vazia para armazenar o penultimo elemento e o quarto elemento da tupla.\n",
        "\tlista = []\n",
        "  # Obtém a prtir da tupla fornecia o penúltimo e o quarto elemento da tupla.\n",
        "\tpenultimo = tuplaA[-2]\n",
        "\tquarto = tuplaA[3]\n",
        "  # Adiciona a lista respectivamentte: o quarto elemento e penúltimo elemento da tupla.\n",
        "\tlista.append(quarto)\n",
        "\tlista.append(penultimo)\n",
        "  #Retorna a lista com os respectivos valores.\n",
        "\treturn lista"
      ],
      "metadata": {
        "id": "C8fKPEVWbETC"
      },
      "execution_count": null,
      "outputs": []
    },
    {
      "cell_type": "markdown",
      "source": [
        "2-)Indexação de listas e último elemento\n",
        "Uma lista possui n elementos, sendo comum executarmos determinadas ações em um elemento de determinada posição. Por exemplo, podemos substituir o elemento da primeira posição da lista por outro valor desejado. Quando selecionamos um elemento, chamamos isto de indexação. Sendo assim, escreva uma função ultimoElemento() em python que recebe uma lista e retorna o último elemento da lista."
      ],
      "metadata": {
        "id": "RZL2DTkRcMYj"
      }
    },
    {
      "cell_type": "code",
      "source": [
        "def ultimoElemento(listaA):\n",
        "\n",
        "  # Último elemento da lista a partir da indexação negativa\n",
        "\tultimo = listaA[-1]\n",
        "  # Retorna o ultimo elemento.\n",
        "\treturn ultimo"
      ],
      "metadata": {
        "id": "lP7_K5h9cfRb"
      },
      "execution_count": null,
      "outputs": []
    },
    {
      "cell_type": "markdown",
      "source": [
        "3-) Em um sistema, comumente utilizamos listas para armazenamento de dados. Entretanto, existem casos em que torna-se necessário criarmos um padrão de organização dos dados. Por exemplo, podemos organizar um cadastro de clientes pela idade destes usuários. Este procedimento de organização é conhecido como ordenação. Sabendo disso, crie uma função chamada ordena_lista() que recebe uma lista de elementos e ordene-os em ordem decrescente. A função possui como parâmetro a lista a ser ordenada e retorna a mesma lista ordenada de forma decrescente."
      ],
      "metadata": {
        "id": "Fd2GyAiXc2_M"
      }
    },
    {
      "cell_type": "code",
      "source": [
        "def ordena_lista(listaA):\n",
        "\t# Usa a função sorted() para ordenar a lista ordem decrescente, o parâmetro reverse=True indica faz com que a ordenação seja de forma decrescente.\n",
        "\tlista_ordenada = sorted(listaA, reverse=True)\n",
        "\t# Retorna a lista ordenada.\n",
        "\treturn lista_ordenada"
      ],
      "metadata": {
        "id": "nOeQ1ujRdBBa"
      },
      "execution_count": null,
      "outputs": []
    },
    {
      "cell_type": "markdown",
      "source": [
        "4-) Considere que uma empresa desenvolveu uma aplicação que solicita ao usuário uma dada informação, como, por exemplo, o segundo nome deste usuário. O programa recebe essa informação e armazena em uma lista de strings. Entretanto, caso um usuário acidentalmente não tenha preenchido esta informação, a lista conterá elementos vazios. Por exemplo, dada uma lista com 5 nomes: listaDeNomes = ['Araújo', 'Alexandre', 'Silva', 'Flávio', ''], note que o último elemento da lista é apenas uma string vazia representada pelas aspas vazias. Sabendo disso, faça uma função removerElementosVazios() que recebe uma lista de nomes e retorna a lista sem os elementos vazios."
      ],
      "metadata": {
        "id": "vETcN88Qd31S"
      }
    },
    {
      "cell_type": "code",
      "source": [
        "def removerElementosVazios(listaA):\n",
        "  # Usando o conceito de compreensão de lista, cria-se uma lista com elementos não vazios, \"nome.strip() != '' faz a verificação se a string após a remoção dos espaços em branco ainda possui conteúdo, se verdadeiro o nome é incluido na a lista.\n",
        "\tnomes_sem_elementos_vazios = [nome for nome in listaA if nome.strip() != '']\n",
        "\n",
        "\treturn nomes_sem_elementos_vazios"
      ],
      "metadata": {
        "id": "Mu3HxuSPeC1G"
      },
      "execution_count": null,
      "outputs": []
    },
    {
      "cell_type": "markdown",
      "source": [
        "5-) Slice. Apesar de utilizarmos listas para armazenar vários elementos, existem situações em que precisamos utilizar apenas parte desta lista. Por exemplo, podemos guardar em uma lista de 30 elementos com o registro do preço do dólar a cada dia nos últimos 30 dias. Posteriormente, podemos querer visualizar o custo do dólar apenas nos últimos 7 dias, para isso pegando os últimos 7 elementos da lista ao invés de 30. Em python, quando selecionamos partes da lista, denominamos esta operação de slicing, podendo ser realizada não apenas para seleção dos últimos elementos da lista, como também elementos em qualquer posição da lista. Sabendo disso, crie uma função particionarLista() em python que recebe uma lista e retorne apenas os elementos das posições 5 até 12."
      ],
      "metadata": {
        "id": "TQ6xXVgJfOwq"
      }
    },
    {
      "cell_type": "code",
      "source": [
        "def particionarLista(listaA):\n",
        "\t#lista vazia.\n",
        "\tlista = []\n",
        "  # Utiliza a indexação para obter uma sublista a partir da posição 5 à posição 11, excluindo esta ultima (12).\n",
        "\tlista = listaA[5:12]\n",
        "\n",
        "\treturn lista\n"
      ],
      "metadata": {
        "id": "kjU29vn_fWnp"
      },
      "execution_count": null,
      "outputs": []
    },
    {
      "cell_type": "markdown",
      "source": [
        "6-) Adicionar elementos em listas. Quando utilizamos listas, uma das vantagens é que podemos adicionar novos elementos com o passar do tempo. Podemos inserir elementos tanto ao final da lista, como também em uma posição específica. Sabendo disso, faça uma função adicionarElemento() que recebe uma lista de números e insere o número inteiro 42 no meio da lista (isto é, em sua posição central). Note que a posição de inserção pode variar a depender da quantidade de elementos na lista original."
      ],
      "metadata": {
        "id": "tb3EmYPpfvsS"
      }
    },
    {
      "cell_type": "code",
      "source": [
        "def adicionarElemento(listaA):\n",
        "    # Obtem o tamnho da lista\n",
        "    tamanho_lista = len(listaA)\n",
        "    # Posição de inserção como a metade inteira do tamanho da lista.\n",
        "    posicao_de_insercao = tamanho_lista // 2\n",
        "\n",
        "    # Se o tamanho da lista é par insere o elemento na posição central, se impar na posição central mais um.\n",
        "    if tamanho_lista % 2 == 0:\n",
        "        listaA.insert(posicao_de_insercao, 42)\n",
        "    else:\n",
        "        listaA.insert(posicao_de_insercao+1, 42)\n",
        "\n",
        "    return listaA"
      ],
      "metadata": {
        "id": "D4azooomf3-l"
      },
      "execution_count": null,
      "outputs": []
    },
    {
      "cell_type": "markdown",
      "source": [
        "7-)Elemento e índice em python, muitas vezes é útil iterarmos tanto pelos elementos quanto pelos índices de listas. Sabendo disso, crie uma função calculaPotencia() que recebe uma lista A e retorna uma lista B, tal que os elementos desta lista sejam iguais aos elementos da lista A elevado a potência igual ao índice do respectivo elemento. Por exemplo, dado uma lista A = [2,5,6], gere uma lista B = [2^0, 5^1, 6^2].\n"
      ],
      "metadata": {
        "id": "l6_YXO3ThA7q"
      }
    },
    {
      "cell_type": "code",
      "source": [
        "def calculaPotencia(tuplaA):\n",
        "  # Com o conceito de list comprehension, cria uma nova tupla em que cada elemento é elevado à potência de seu respectivo índice\n",
        "\ttupla_B = [elemento ** indice for indice, elemento in enumerate(tuplaA)]\n",
        "\n",
        "\treturn tupla_B"
      ],
      "metadata": {
        "id": "pORg299IhQB7"
      },
      "execution_count": null,
      "outputs": []
    },
    {
      "cell_type": "markdown",
      "source": [
        "8-) Função zip Em programação, podemos fazer uso de diferentes listas para armazenar nossos dados para, posteriormente, unir informações destas listas. Por exemplo, podemos guardar em uma lista os nomes de funcionários de uma empresa e, em outra lista, os cargos que estes funcionários ocupam.\n",
        "funcionarios = [\"Paulo\", \"Andrea\", \"Marta\"] profissao = [\"cientista de dados\", \"engenheiro de dados\", \"desenvolvedor\"] Dado essas duas listas, podemos querer exibir as duas informações conjuntamente da seguinte forma: [('Paulo', 'cientista de dados'), ('Andrea', 'engenheiro de dados'), ('Marta', 'desenvolvedor')] Podemos fazer isto por meio da função zip que recebe as duas listas e retorna uma saída como exposta acima. Além de exibir os valores, podemos fazer uso da função zip para diversas funcionalidades. Sabendo disso, crie uma função ultimoElementoLista2D() que receba uma lista de duas dimensões (isto é, uma lista de listas, na forma de matriz) e utilize o zip para retornar o último elemento de cada sublista. Por exemplo, se tivermos a lista abaixo: [[192, 193, 194],\n",
        " [507, 508, 509], [526, 527, 528, 529],  [560, 561],  [635, 636, 637]]\n",
        "Retorne [194, 509, 529, 561, 637]."
      ],
      "metadata": {
        "id": "rHGWmSBYhjER"
      }
    },
    {
      "cell_type": "code",
      "source": [
        "def ultimoElementoLista2D(listaA):\n",
        "\t# Cria-se uma lista a partir o último elemento de cada sublista com indexação negativa.\n",
        "\telementos_finais = [sublista[-1] for sublista in listaA]\n",
        "\n",
        "\treturn elementos_finais\n"
      ],
      "metadata": {
        "id": "DvJu38WShyox"
      },
      "execution_count": null,
      "outputs": []
    }
  ]
}